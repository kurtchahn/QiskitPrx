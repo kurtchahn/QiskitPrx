{
 "cells": [
  {
   "cell_type": "code",
   "execution_count": 1,
   "id": "9dc727b2-ea0c-40bd-8147-c63f5a43be02",
   "metadata": {},
   "outputs": [],
   "source": [
    "import qiskit as qk\n",
    "import qiskit_aer as qaer\n",
    "\n",
    "import numpy as np\n",
    "import math\n",
    "\n",
    "sSimulator = qaer.Aer.backends(name=\"statevector_simulator\")[0]\n",
    "mSimulator = qaer.Aer.backends(name=\"qasm_simulator\")[0]"
   ]
  },
  {
   "cell_type": "markdown",
   "id": "50f3ba08-f001-4988-9652-01ea886f544a",
   "metadata": {},
   "source": [
    "# Phase Gate"
   ]
  },
  {
   "cell_type": "code",
   "execution_count": 3,
   "id": "703f7caf-4b3b-4012-93a9-85a354f79f65",
   "metadata": {},
   "outputs": [
    {
     "name": "stdout",
     "output_type": "stream",
     "text": [
      "Statevector([0.70710678+0.j, 0.70710678+0.j],\n",
      "            dims=(2,))\n"
     ]
    }
   ],
   "source": [
    "qr = qk.QuantumRegister(1, name=\"qr\")\n",
    "qc = qk.QuantumCircuit(qr, name=\"qc\")\n",
    "\n",
    "qc.h(qr[0])\n",
    "\n",
    "sSimulator.run(qc).result().get_statevector()"
   ]
  },
  {
   "cell_type": "code",
   "execution_count": 4,
   "id": "693e1537-0e46-4839-a0bd-6754ca1b6fc5",
   "metadata": {},
   "outputs": [
    {
     "data": {
      "image/png": "[encoded data removed]",
      "text/plain": [
       "<Figure size 197.472x117.056 with 1 Axes>"
      ]
     },
     "execution_count": 4,
     "metadata": {},
     "output_type": "execute_result"
    }
   ],
   "source": [
    "qc.draw(\"mpl\")"
   ]
  },
  {
   "cell_type": "code",
   "execution_count": 6,
   "id": "4758b99f-90c6-414e-a250-85a5f46bb744",
   "metadata": {},
   "outputs": [
    {
     "name": "stdout",
     "output_type": "stream",
     "text": [
      "Statevector([0.70710678+0.j , 0.5       +0.5j],\n",
      "            dims=(2,))\n"
     ]
    }
   ],
   "source": [
    "qc.p(math.pi/4, qr[0])\n",
    "\n",
    "sSimulator.run(qc).result().get_statevector()"
   ]
  },
  {
   "cell_type": "code",
   "execution_count": 7,
   "id": "1fe02a4f-7ba4-4b7d-8213-2b9b09904ae9",
   "metadata": {},
   "outputs": [
    {
     "data": {
      "image/png": "[encoded data removed]",
      "text/plain": [
       "<Figure size 281.083x117.056 with 1 Axes>"
      ]
     },
     "execution_count": 7,
     "metadata": {},
     "output_type": "execute_result"
    }
   ],
   "source": [
    "qc.draw(\"mpl\")"
   ]
  },
  {
   "cell_type": "markdown",
   "id": "fd7486df-d9c6-4297-819d-a4ae7b63eb72",
   "metadata": {},
   "source": [
    "# Rotation Gates"
   ]
  },
  {
   "cell_type": "code",
   "execution_count": 9,
   "id": "db01d6fb-7bc6-409d-8b3a-ded88649a41a",
   "metadata": {},
   "outputs": [
    {
     "name": "stdout",
     "output_type": "stream",
     "text": [
      "Statevector([0.70710678+0.j        , 0.        -0.70710678j],\n",
      "            dims=(2,))\n"
     ]
    }
   ],
   "source": [
    "qr = qk.QuantumRegister(1, name=\"qr\")\n",
    "qc = qk.QuantumCircuit(qr, name=\"qc\")\n",
    "\n",
    "qc.rx(math.pi/2, qr[0])\n",
    "\n",
    "sSimulator.run(qc).result().get_statevector()"
   ]
  },
  {
   "cell_type": "code",
   "execution_count": 10,
   "id": "18e41d28-d6e5-4d2e-9252-c22adece45c0",
   "metadata": {},
   "outputs": [
    {
     "data": {
      "image/png": "[encoded data removed]",
      "text/plain": [
       "<Figure size 197.472x117.056 with 1 Axes>"
      ]
     },
     "execution_count": 10,
     "metadata": {},
     "output_type": "execute_result"
    }
   ],
   "source": [
    "qc.draw(\"mpl\")"
   ]
  },
  {
   "cell_type": "markdown",
   "id": "01645218-14be-4f4b-ab2c-e737d8fd70f3",
   "metadata": {},
   "source": [
    "# CSWAP"
   ]
  },
  {
   "cell_type": "code",
   "execution_count": 11,
   "id": "c00db463-8e4a-4c7a-9ee1-dfc4dbb52fd9",
   "metadata": {},
   "outputs": [
    {
     "name": "stdout",
     "output_type": "stream",
     "text": [
      "Statevector([0.        +0.j, 0.        +0.j, 0.70710678+0.j,\n",
      "             0.        +0.j, 0.        +0.j, 0.70710678+0.j,\n",
      "             0.        +0.j, 0.        +0.j],\n",
      "            dims=(2, 2, 2))\n"
     ]
    }
   ],
   "source": [
    "qr = qk.QuantumRegister(3, name=\"qr\")\n",
    "qc = qk.QuantumCircuit(qr, name=\"qc\")\n",
    "\n",
    "qc.h(qr[0])\n",
    "qc.x(qr[1])\n",
    "qc.id(qr[2])\n",
    "\n",
    "qc.cswap(qr[0], qr[1], qr[2])\n",
    "\n",
    "sSimulator.run(qc).result().get_statevector()"
   ]
  },
  {
   "cell_type": "code",
   "execution_count": 12,
   "id": "481bca1a-713f-42bf-a0ca-77897cbd58c1",
   "metadata": {},
   "outputs": [
    {
     "data": {
      "image/png": "[encoded data removed]",
      "text/plain": [
       "<Figure size 299.515x284.278 with 1 Axes>"
      ]
     },
     "execution_count": 12,
     "metadata": {},
     "output_type": "execute_result"
    }
   ],
   "source": [
    "qc.draw(\"mpl\")"
   ]
  },
  {
   "cell_type": "code",
   "execution_count": null,
   "id": "5bad2e89-e294-436f-b671-ab0d55becc3f",
   "metadata": {},
   "outputs": [],
   "source": []
  }
 ],
 "metadata": {
  "kernelspec": {
   "display_name": "Qiskit (runtime)",
   "language": "python",
   "name": "helloworld"
  },
  "language_info": {
   "codemirror_mode": {
    "name": "ipython",
    "version": 3
   },
   "file_extension": ".py",
   "mimetype": "text/x-python",
   "name": "python",
   "nbconvert_exporter": "python",
   "pygments_lexer": "ipython3",
   "version": "3.10.11"
  }
 },
 "nbformat": 4,
 "nbformat_minor": 5
}
