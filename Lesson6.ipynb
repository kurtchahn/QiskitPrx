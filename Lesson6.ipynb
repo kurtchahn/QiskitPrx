{
 "cells": [
  {
   "cell_type": "code",
   "execution_count": 1,
   "id": "3c7bf710-5545-4fe4-b1d9-ac8a5f0944c5",
   "metadata": {},
   "outputs": [],
   "source": [
    "import qiskit as qk\n",
    "import qiskit_aer as qaer\n",
    "\n",
    "import numpy as np\n",
    "import math\n",
    "\n",
    "sSimulator = qaer.Aer.backends(name=\"statevector_simulator\")[0]\n",
    "mSimulator = qaer.Aer.backends(name=\"qasm_simulator\")[0]"
   ]
  },
  {
   "cell_type": "markdown",
   "id": "44e82c13-3523-42fc-9944-0b98a259c615",
   "metadata": {},
   "source": [
    "# Bernstein-Vazirani Algorithm"
   ]
  },
  {
   "cell_type": "markdown",
   "id": "5c95d7e6-2f61-4210-a078-c220dfc52454",
   "metadata": {},
   "source": [
    "We are given a new blackbox function that takes a $n$-bit string $X_i$:\n",
    "\n",
    "$f(X_i)=(a\\cdot X_i)\\oplus b$\n",
    "\n",
    "where $a$ is an unknown string of $n$ bits and $b$ is an unknown single bit."
   ]
  },
  {
   "cell_type": "markdown",
   "id": "29bea985-a88d-4d01-bbc2-f9bcc4ef1266",
   "metadata": {},
   "source": [
    "$b$ can be found making making $X_i$ a string of 0's:\n",
    "\n",
    "$f(X_i)=0\\oplus b$\n",
    "\n",
    "So if $f$ outputs 0, we would know $b=0$, and if $f$ outputs 1, we would know $b=1$.\n",
    "\n",
    "However, this can be done in one shot on a classical computer to. We want to find what $a$ is in one shot."
   ]
  },
  {
   "cell_type": "markdown",
   "id": "f036645c-b947-4133-bb51-7ddd94a5e54c",
   "metadata": {},
   "source": [
    "We will define a similar operator $g$:\n",
    "\n",
    "$g|X_i\\rangle|\\alpha\\rangle\\rightarrow|X_i\\rangle|\\alpha\\oplus f(X_i)\\rangle$\n",
    "\n",
    "And our circuit will also begin with the input state $|\\psi\\rangle_{in}=H^{\\otimes n+1}|0\\rangle^n|1\\rangle$\n",
    "\n",
    "$f$ will output 1 for exactly half of the states in the superposition, meaning $g$ will apply a phase shift to exactly half of the states in the superposition. This will make it so measuring the $|0\\rangle^n$ is impossible.\n",
    "\n",
    "The exception to this is if $a=|0\\rangle^n$, then $f$ will phase flip no states if $b=0$ or will phase flip all states if $b=1$, and the state $|0\\rangle^n$ would be measured."
   ]
  },
  {
   "cell_type": "markdown",
   "id": "b7dba349-e941-48d1-9e76-5a20607ac48c",
   "metadata": {},
   "source": [
    "$f$ was defined in such a way that our blackbox ensures that all states in the superposition destrucively interfere, save for our state that describes the bit string $a$. Explanation given starting on page 74."
   ]
  },
  {
   "cell_type": "code",
   "execution_count": null,
   "id": "a8b99c4c-4777-488e-b04c-cf57c91655e8",
   "metadata": {},
   "outputs": [],
   "source": []
  }
 ],
 "metadata": {
  "kernelspec": {
   "display_name": "Qiskit (runtime)",
   "language": "python",
   "name": "helloworld"
  },
  "language_info": {
   "codemirror_mode": {
    "name": "ipython",
    "version": 3
   },
   "file_extension": ".py",
   "mimetype": "text/x-python",
   "name": "python",
   "nbconvert_exporter": "python",
   "pygments_lexer": "ipython3",
   "version": "3.10.11"
  }
 },
 "nbformat": 4,
 "nbformat_minor": 5
}
