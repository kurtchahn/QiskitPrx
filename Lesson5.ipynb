{
 "cells": [
  {
   "cell_type": "code",
   "execution_count": 64,
   "id": "25cd4200-b0c6-4fdb-a779-e440687a9017",
   "metadata": {},
   "outputs": [],
   "source": [
    "import qiskit as qk\n",
    "import qiskit_aer as qaer\n",
    "\n",
    "import numpy as np\n",
    "import math\n",
    "\n",
    "sSimulator = qaer.Aer.backends(name=\"statevector_simulator\")[0]\n",
    "mSimulator = qaer.Aer.backends(name=\"qasm_simulator\")[0]"
   ]
  },
  {
   "cell_type": "markdown",
   "id": "3a2a20c7-7f58-4a99-be9e-0bdf7f2af336",
   "metadata": {},
   "source": [
    "# Deutsch Algorithm"
   ]
  },
  {
   "cell_type": "markdown",
   "id": "2b62f494-b1d7-41ba-a843-47ab4615b6c0",
   "metadata": {},
   "source": [
    "We have a black-box function $f$ that takes $0$ and $1$ and outputs:\n",
    "\n",
    "If $f$ is a balanced function:\n",
    "\n",
    "$f(0)\\rightarrow0$ and $f(1)\\rightarrow1$ or \n",
    "\n",
    "$f(0)\\rightarrow1$ and $f(1)\\rightarrow0$\n",
    "\n",
    "If $f$ is a constant function:\n",
    "\n",
    "$f(0)\\rightarrow0$ and $f(1)\\rightarrow0$ or\n",
    "\n",
    "$f(0)\\rightarrow1$ and $f(1)\\rightarrow1$\n",
    "\n",
    "The problem is to determine whether $f$ is a balanced or constant function."
   ]
  },
  {
   "cell_type": "markdown",
   "id": "d28717d2-b274-4714-a065-0b485093d73c",
   "metadata": {},
   "source": [
    "# Classical Representation"
   ]
  },
  {
   "cell_type": "code",
   "execution_count": 71,
   "id": "ec212c55-a45b-4273-8dea-25560028f42c",
   "metadata": {},
   "outputs": [
    {
     "name": "stdout",
     "output_type": "stream",
     "text": [
      "f(0):  0\n",
      "f(1):  1\n",
      "f is a balanced function\n"
     ]
    }
   ],
   "source": [
    "def create_blackbox():\n",
    "\n",
    "    def F1(x):\n",
    "        return 0\n",
    "\n",
    "    def F2(x):\n",
    "        return 1\n",
    "\n",
    "    def F3(x):\n",
    "        return x%2\n",
    "\n",
    "    def F4(x):\n",
    "        return (x+1)%2\n",
    "\n",
    "    functions = [F1, F2, F3, F4]\n",
    "\n",
    "    function = functions[ np.random.randint(0, 3) ]\n",
    "\n",
    "    return function\n",
    "\n",
    "blackbox = create_blackbox()\n",
    "\n",
    "print(\"f(0): \", blackbox(0))\n",
    "print(\"f(1): \", blackbox(1))\n",
    "\n",
    "if (blackbox(0) == blackbox(1)):\n",
    "    print(\"f is a constant function\")\n",
    "else:\n",
    "    print(\"f is a balanced function\")"
   ]
  },
  {
   "cell_type": "markdown",
   "id": "818c63da-f9f6-4708-a07c-38f4d679da7f",
   "metadata": {},
   "source": [
    "This requires the blackbox function to be called twice. The Deutsch Algorithm will only require 1 call."
   ]
  },
  {
   "cell_type": "markdown",
   "id": "766e33bf-5b99-43ad-9231-c4c709c0192e",
   "metadata": {},
   "source": [
    "# Quantum Representation"
   ]
  },
  {
   "cell_type": "markdown",
   "id": "f922ce4e-1b8a-4d17-abd8-8e298f5690b3",
   "metadata": {},
   "source": [
    "We define our problem, so that instead of an input and output of a classical bit, we define another function with an input and output of two qubit states that helps us determine whether $f$ is balanced or constant.\n",
    "\n",
    "$g|q_1\\rangle|q_2\\rangle\\rightarrow|q_1\\rangle|q_2\\oplus f(q_1)\\rangle$"
   ]
  },
  {
   "cell_type": "markdown",
   "id": "d9dd8c57-050d-4030-83de-1b4ac9a6980e",
   "metadata": {},
   "source": [
    "The potential outputs of $g$ are in the textbook. For example, if we only input the zero state $|00\\rangle$, the outputs of $g$ are:\n",
    "\n",
    "If $f$ is balanced:\n",
    "\n",
    ">If $f(0,1)\\rightarrow(0,1)$:\n",
    ">\n",
    ">$g(|00\\rangle)\\rightarrow|00\\rangle$\n",
    ">\n",
    ">If $f(0,1)\\rightarrow(1,0)$:\n",
    ">\n",
    ">$g(|00\\rangle)\\rightarrow|01\\rangle$\n",
    "\n",
    "If $f$ is constant:\n",
    "\n",
    ">If $f(0,1)\\rightarrow(0,0)$:\n",
    ">\n",
    ">$g(|00\\rangle)\\rightarrow|00\\rangle$\n",
    ">\n",
    ">If $f(0,1)\\rightarrow(1,1)$:\n",
    ">\n",
    ">$g(|00\\rangle)\\rightarrow|01\\rangle$"
   ]
  },
  {
   "cell_type": "markdown",
   "id": "ea11f6d7-b729-4704-8f83-27797768f4a2",
   "metadata": {},
   "source": [
    "Classically, we are still unable to solve this problem with one call. However, if give an input of a superposition state, such as $|\\psi\\rangle_{in}=\\frac{1}{2}(|00\\rangle-|01\\rangle+|10\\rangle-|11\\rangle)$\n",
    "\n",
    "*** Note: it is here that the textbook makes a minor error on page 54\n",
    "\n",
    "If $f$ is balanced:\n",
    ">If $f(0,1)\\rightarrow(0,1)$:\n",
    ">\n",
    ">>$g|\\psi\\rangle_{in}\\rightarrow\\frac{1}{2}(|00\\rangle-|01\\rangle-|10\\rangle+|11\\rangle)$\n",
    ">\n",
    ">If $f(0,1)\\rightarrow(1,0)$:\n",
    ">\n",
    ">>$g|\\psi\\rangle_{in}\\rightarrow\\frac{1}{2}(-|00\\rangle+|01\\rangle+|10\\rangle-|11\\rangle)$\n",
    "\n",
    "And so on. Once a Hadamard gate is applied:\n",
    "\n",
    "If $f(0,1)\\rightarrow(0,1)$: $|11\\rangle$\n",
    "\n",
    "If $f(0,1)\\rightarrow(1,0)$: $-|11\\rangle$\n",
    "\n",
    "If $f(0,1)\\rightarrow(0,0)$: $|01\\rangle$\n",
    "\n",
    "If $f(0,1)\\rightarrow(1,1)$: $-|01\\rangle$"
   ]
  },
  {
   "cell_type": "markdown",
   "id": "ea217d64-89d5-421c-a321-3eba319eaa85",
   "metadata": {},
   "source": [
    "Actually constructing $g$ is explained on page 58."
   ]
  },
  {
   "cell_type": "code",
   "execution_count": 180,
   "id": "419f4e58-de06-4b68-a523-a5af605862ed",
   "metadata": {},
   "outputs": [],
   "source": [
    "def return_blackbox():\n",
    "\n",
    "    q = qk.QuantumRegister(2)\n",
    "    blackbox = qk.QuantumCircuit(q, name=r\"$\\hat{U}_B$\")\n",
    "\n",
    "    rand = np.random.randint(0, 3)\n",
    "\n",
    "    match rand:\n",
    "    \n",
    "        case 0: ## f(0,1) -> (0,1)\n",
    "            blackbox.cx(q[0], q[1])\n",
    "            print(\"balanced\")\n",
    "            \n",
    "        case 1: ## f(0,1) -> (1,0)\n",
    "            blackbox.x(q[0])\n",
    "            blackbox.cx(q[0], q[1])\n",
    "            blackbox.x(q[0])\n",
    "            print(\"balanced\")\n",
    "            \n",
    "        case 2: ## f(0,1) -> (0,0)\n",
    "            blackbox.id(q[0])\n",
    "            blackbox.id(q[1])\n",
    "            print(\"constant\")\n",
    "\n",
    "        case 3: ## f(0,1) -> (1,1)\n",
    "            blackbox.id(q[0])\n",
    "            blackbox.x(q[1])\n",
    "            print(\"constant\")\n",
    "\n",
    "    return blackbox.to_instruction()\n",
    "        "
   ]
  },
  {
   "cell_type": "code",
   "execution_count": 188,
   "id": "a8b63813-2b55-4a0e-9213-8618c11fbf8f",
   "metadata": {},
   "outputs": [
    {
     "name": "stdout",
     "output_type": "stream",
     "text": [
      "balanced\n"
     ]
    },
    {
     "data": {
      "image/png": "[encoded data removed]",
      "text/plain": [
       "<Figure size 956.183x284.278 with 1 Axes>"
      ]
     },
     "execution_count": 188,
     "metadata": {},
     "output_type": "execute_result"
    }
   ],
   "source": [
    "q = qk.QuantumRegister(2, name=\"q\")\n",
    "c = qk.ClassicalRegister(1, name=\"c\")\n",
    "deutsch = qk.QuantumCircuit(q, c, name=\"qc\")\n",
    "\n",
    "deutsch.id(q[0])\n",
    "deutsch.x(q[1])\n",
    "\n",
    "deutsch.h(q[0])\n",
    "deutsch.h(q[1])\n",
    "\n",
    "deutsch.barrier(label=r\"$|\\psi\\rangle_{in}$\")\n",
    "\n",
    "blackbox = return_blackbox()\n",
    "\n",
    "deutsch.append(blackbox, [0,1])\n",
    "\n",
    "deutsch.barrier(label=r\"$\\hat{U}_B|\\psi\\rangle_{in}$\")\n",
    "\n",
    "deutsch.h(q[0])\n",
    "deutsch.h(q[1])\n",
    "\n",
    "deutsch.barrier()\n",
    "\n",
    "## We only need to measure q0 to determine if f is balanced or constant\n",
    "deutsch.measure(q[0], c)\n",
    "\n",
    "deutsch.draw(\"mpl\")"
   ]
  },
  {
   "cell_type": "code",
   "execution_count": 193,
   "id": "25e99fca-a55b-43f4-8200-33b3cef5d1f9",
   "metadata": {},
   "outputs": [
    {
     "name": "stdout",
     "output_type": "stream",
     "text": [
      "1 state measured: f is a balanced function\n"
     ]
    }
   ],
   "source": [
    "## We only need 1 shot\n",
    "## We need to decompose the circuit in order for the simulator to read the blackbox instructions\n",
    "counts = mSimulator.run(deutsch.decompose(), shots=1).result().get_counts(deutsch.decompose())\n",
    "\n",
    "if (\"0\" in counts):\n",
    "    print(r\"0 state measured: f is a constant function\")\n",
    "elif (\"1\" in counts):\n",
    "    print(r\"1 state measured: f is a balanced function\")"
   ]
  },
  {
   "cell_type": "markdown",
   "id": "886d54f5-bd17-4c5a-bbb4-045c3544472c",
   "metadata": {},
   "source": [
    "# Deutsch-Josza Algorithm"
   ]
  },
  {
   "cell_type": "markdown",
   "id": "530ffdda-12b8-45c7-ab35-13b8c3154d31",
   "metadata": {},
   "source": [
    "Input of a string of $n$ bits, thus $2^n$ different inputs, that has either balanced or constant outputs."
   ]
  },
  {
   "cell_type": "markdown",
   "id": "55aaf889-1702-450c-be21-f4b20ce513fa",
   "metadata": {},
   "source": [
    "Classically, the function would have to be called exactly $2^{n-1}+1$ times to check if it is balanced or constant."
   ]
  },
  {
   "cell_type": "code",
   "execution_count": null,
   "id": "06620ecb-a7e7-424b-87b9-15a1a6b4b23a",
   "metadata": {},
   "outputs": [],
   "source": []
  }
 ],
 "metadata": {
  "kernelspec": {
   "display_name": "Qiskit (runtime)",
   "language": "python",
   "name": "helloworld"
  },
  "language_info": {
   "codemirror_mode": {
    "name": "ipython",
    "version": 3
   },
   "file_extension": ".py",
   "mimetype": "text/x-python",
   "name": "python",
   "nbconvert_exporter": "python",
   "pygments_lexer": "ipython3",
   "version": "3.10.11"
  }
 },
 "nbformat": 4,
 "nbformat_minor": 5
}
