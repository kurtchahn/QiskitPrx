{
 "cells": [
  {
   "cell_type": "code",
   "execution_count": 1,
   "id": "cd081619-afb8-487f-884c-025fcb070bda",
   "metadata": {},
   "outputs": [],
   "source": [
    "import qiskit as qk\n",
    "import qiskit_aer as qaer\n",
    "\n",
    "import numpy as np\n",
    "import math\n",
    "\n",
    "sSimulator = qaer.Aer.backends(name=\"statevector_simulator\")[0]\n",
    "mSimulator = qaer.Aer.backends(name=\"qasm_simulator\")[0]"
   ]
  },
  {
   "cell_type": "markdown",
   "id": "c1b73716-b4e8-4e62-a875-6d6d56a2f32e",
   "metadata": {},
   "source": [
    "# Simon's Algorithm"
   ]
  },
  {
   "cell_type": "markdown",
   "id": "5fe33d08-592e-4178-8cea-c49d1fefe943",
   "metadata": {},
   "source": [
    "We are given a blackbox function $f:\\{0,1\\}^n\\rightarrow\\{0,1\\}^n$ is guaranteed to be either one-to-one or two-to-one.\n",
    "\n",
    "We are also guaranteed that for all $x_1, x_2\\in\\{0,1\\}^n$\n",
    "\n",
    ">$f(x_1)=f(x_2)\\leftrightarrow x_1\\oplus x_2=s$ for some unknown bit string $s\\in\\{0,1\\}^n$\n",
    "\n",
    "From this we can show that:\n",
    "\n",
    ">if $f$ is one-to-one:\n",
    ">\n",
    ">>$f(x_1)=f(x_2)\\leftrightarrow x_1=x_2\\leftrightarrow x_1\\oplus x_2=0^n\\Rightarrow s=0^n$\n",
    ">>\n",
    ">if $f$ is not one-to-one (i.e. two-to-one):\n",
    ">\n",
    ">>$f(x_1)=f(x_2)\\leftrightarrow x_1\\ne x_2\\leftrightarrow x_1\\oplus x_2\\ne 0^n\\Rightarrow s\\ne 0^n$"
   ]
  },
  {
   "cell_type": "markdown",
   "id": "b737ae87-b3e8-4a11-aace-547ae0c5b611",
   "metadata": {},
   "source": [
    "For example, if we are given an $s\\ne 0^{n=3}$ where $s=\\{1,1,0\\}$, we can find corresponding $x_1$ and $x_2$:\n",
    "\n",
    "$\\{0,0,0\\}$ :: $\\{1,1,0\\}$\n",
    "\n",
    "$\\{0,0,1\\}$ :: $\\{1,1,1\\}$\n",
    "\n",
    "And so on. If we convert our bit strings into decimal, we get the following:\n",
    "\n",
    "$f(0)=f(6)$\n",
    "\n",
    "$f(1)=f(7)$\n",
    "\n",
    "$f(2)=f(4)$\n",
    "\n",
    "$f(3)=f(5)$\n",
    "\n",
    "Our function $f$ is characterized by the \"key\" bit string $s=\\{1,1,0\\}$, and because $s\\ne 0^3$, we know that $f$ is not one-to-one (i.e. two-to-one)."
   ]
  },
  {
   "cell_type": "markdown",
   "id": "ed1f48cb-9672-4d60-a91f-1309dcd2b25b",
   "metadata": {},
   "source": [
    "Classically, we can find $s$ for an unknown $f$ by calling $f$ for $2^{N-1}+1$ times.\n",
    "\n",
    "Quantumly (?), we can find $s$ in one call, *sometimes*. If $f$ is one-to-one, then $s=0^n$, and our work if finished. If $f$ is two-to-one, then $s\\ne 0^n$, and a bit more work is needed to actually find $s$."
   ]
  },
  {
   "cell_type": "markdown",
   "id": "cce9535e-350a-4200-8def-61617e1dcdd5",
   "metadata": {},
   "source": [
    "## Operator $g$"
   ]
  },
  {
   "cell_type": "markdown",
   "id": "f5ce2ed0-d01e-4f7c-92fd-b0982240258d",
   "metadata": {},
   "source": [
    "$g|X_i\\rangle|\\alpha\\rangle\\rightarrow|X_i\\rangle|\\alpha\\oplus f(X_i)\\rangle$\n",
    "\n",
    "$|\\alpha\\rangle=|0\\rangle^n$"
   ]
  },
  {
   "cell_type": "code",
   "execution_count": null,
   "id": "d38a37c8-38fa-4fc6-bd37-a3959a9f3de7",
   "metadata": {},
   "outputs": [],
   "source": []
  }
 ],
 "metadata": {
  "kernelspec": {
   "display_name": "Qiskit (runtime)",
   "language": "python",
   "name": "helloworld"
  },
  "language_info": {
   "codemirror_mode": {
    "name": "ipython",
    "version": 3
   },
   "file_extension": ".py",
   "mimetype": "text/x-python",
   "name": "python",
   "nbconvert_exporter": "python",
   "pygments_lexer": "ipython3",
   "version": "3.10.11"
  }
 },
 "nbformat": 4,
 "nbformat_minor": 5
}
