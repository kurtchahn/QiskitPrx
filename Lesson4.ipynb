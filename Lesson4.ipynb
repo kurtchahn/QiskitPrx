{
 "cells": [
  {
   "cell_type": "code",
   "execution_count": 1,
   "id": "a6d05f8b-f4f5-4788-8361-dee99bea0647",
   "metadata": {},
   "outputs": [],
   "source": [
    "import qiskit as qk\n",
    "import qiskit_aer as qaer\n",
    "\n",
    "import numpy as np\n",
    "import math\n",
    "\n",
    "sSimulator = qaer.Aer.backends(name=\"statevector_simulator\")[0]\n",
    "mSimulator = qaer.Aer.backends(name=\"qasm_simulator\")[0]"
   ]
  },
  {
   "cell_type": "code",
   "execution_count": null,
   "id": "fbeb2f24-6a56-4321-9beb-77437091f105",
   "metadata": {},
   "outputs": [],
   "source": []
  }
 ],
 "metadata": {
  "kernelspec": {
   "display_name": "Qiskit (runtime)",
   "language": "python",
   "name": "helloworld"
  },
  "language_info": {
   "codemirror_mode": {
    "name": "ipython",
    "version": 3
   },
   "file_extension": ".py",
   "mimetype": "text/x-python",
   "name": "python",
   "nbconvert_exporter": "python",
   "pygments_lexer": "ipython3",
   "version": "3.10.11"
  }
 },
 "nbformat": 4,
 "nbformat_minor": 5
}
