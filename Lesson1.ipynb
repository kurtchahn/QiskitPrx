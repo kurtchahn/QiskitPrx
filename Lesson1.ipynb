{
 "cells": [
  {
   "cell_type": "code",
   "execution_count": 23,
   "id": "badcbf26-cb46-439f-b546-515f01f92eb2",
   "metadata": {},
   "outputs": [],
   "source": [
    "import qiskit as qk\n",
    "import qiskit_aer as qaer\n",
    "\n",
    "import numpy as np\n",
    "import math"
   ]
  },
  {
   "cell_type": "code",
   "execution_count": 5,
   "id": "a0cebb04-3c43-485e-aea8-d57127081ba5",
   "metadata": {},
   "outputs": [],
   "source": [
    "sSimulator = qaer.Aer.backends(name=\"statevector_simulator\")[0]\n",
    "mSimulator = qaer.Aer.backends(name=\"qasm_simulator\")[0]"
   ]
  },
  {
   "cell_type": "markdown",
   "id": "030aadec-14b8-4bd4-a77f-25907c1cadcf",
   "metadata": {},
   "source": [
    "# Using Statevector Simulator"
   ]
  },
  {
   "cell_type": "code",
   "execution_count": 24,
   "id": "b042bc0c-f84d-48c4-8116-610f8033bf51",
   "metadata": {},
   "outputs": [
    {
     "name": "stdout",
     "output_type": "stream",
     "text": [
      "Statevector([1.+0.j, 0.+0.j],\n",
      "            dims=(2,))\n"
     ]
    }
   ],
   "source": [
    "qr = qk.QuantumRegister(1)\n",
    "\n",
    "helloQubit = qk.QuantumCircuit(qr)\n",
    "\n",
    "## identity operator on q0\n",
    "helloQubit.id(qr[0])\n",
    "\n",
    "job = sSimulator.run(helloQubit)\n",
    "result = job.result()\n",
    "result.get_statevector()"
   ]
  },
  {
   "cell_type": "code",
   "execution_count": 25,
   "id": "2a43d471-6ef7-4916-8a89-c2acbb9bda09",
   "metadata": {},
   "outputs": [
    {
     "data": {
      "image/png": "[encoded data removed]",
      "text/plain": [
       "<Figure size 221.914x117.056 with 1 Axes>"
      ]
     },
     "execution_count": 25,
     "metadata": {},
     "output_type": "execute_result"
    }
   ],
   "source": [
    "helloQubit.draw(\"mpl\")"
   ]
  },
  {
   "cell_type": "code",
   "execution_count": 26,
   "id": "1e2b89ed-304a-43aa-b6cd-e151f57dc17c",
   "metadata": {},
   "outputs": [
    {
     "name": "stdout",
     "output_type": "stream",
     "text": [
      "Statevector([1.+0.j, 0.+0.j, 0.+0.j, 0.+0.j, 0.+0.j, 0.+0.j, 0.+0.j,\n",
      "             0.+0.j],\n",
      "            dims=(2, 2, 2))\n"
     ]
    }
   ],
   "source": [
    "qr = qk.QuantumRegister(3)\n",
    "\n",
    "qc = qk.QuantumCircuit(qr)\n",
    "\n",
    "qc.id(qr[0])\n",
    "qc.id(qr[1])\n",
    "qc.id(qr[2])\n",
    "\n",
    "\n",
    "job = sSimulator.run(qc)\n",
    "result = job.result()\n",
    "result.get_statevector()"
   ]
  },
  {
   "cell_type": "code",
   "execution_count": 27,
   "id": "8dc999f8-a55d-4f2a-afd7-cbde25fc3f3d",
   "metadata": {},
   "outputs": [
    {
     "data": {
      "image/png": "[encoded data removed]",
      "text/plain": [
       "<Figure size 240.548x284.278 with 1 Axes>"
      ]
     },
     "execution_count": 27,
     "metadata": {},
     "output_type": "execute_result"
    }
   ],
   "source": [
    "qc.draw(\"mpl\")"
   ]
  },
  {
   "cell_type": "markdown",
   "id": "0502bc65-93fb-48fb-bb15-86b637eb1957",
   "metadata": {},
   "source": [
    "# Using QASM Simulator"
   ]
  },
  {
   "cell_type": "code",
   "execution_count": 32,
   "id": "6d75290c-aab3-47c3-ab0d-106e49d6faf6",
   "metadata": {},
   "outputs": [
    {
     "data": {
      "text/plain": [
       "{'0': 529, '1': 495}"
      ]
     },
     "execution_count": 32,
     "metadata": {},
     "output_type": "execute_result"
    }
   ],
   "source": [
    "qr = qk.QuantumRegister(1)\n",
    "cr = qk.ClassicalRegister(1)\n",
    "qc = qk.QuantumCircuit(qr, cr)\n",
    "\n",
    "qc.h(qr[0])\n",
    "qc.measure(qr, cr)\n",
    "\n",
    "job = mSimulator.run(qc)\n",
    "result = job.result()\n",
    "result.get_counts(qc)"
   ]
  },
  {
   "cell_type": "code",
   "execution_count": 33,
   "id": "b0a9f048-cea9-43ba-8eba-fa2d72c9ee75",
   "metadata": {},
   "outputs": [
    {
     "data": {
      "image/png": "[encoded data removed]",
      "text/plain": [
       "<Figure size 305.929x200.667 with 1 Axes>"
      ]
     },
     "execution_count": 33,
     "metadata": {},
     "output_type": "execute_result"
    }
   ],
   "source": [
    "qc.draw(\"mpl\")"
   ]
  },
  {
   "cell_type": "code",
   "execution_count": 38,
   "id": "eba4a1ec-979c-41d1-b24d-94447bfdf164",
   "metadata": {},
   "outputs": [
    {
     "name": "stdout",
     "output_type": "stream",
     "text": [
      "{'11': 264, '00': 259, '10': 257, '01': 244}\n"
     ]
    }
   ],
   "source": [
    "qr = qk.QuantumRegister(2)\n",
    "cr = qk.ClassicalRegister(2)\n",
    "qc = qk.QuantumCircuit(qr, cr)\n",
    "\n",
    "qc.h(qr[0])\n",
    "qc.h(qr[1])\n",
    "qc.measure(qr, cr)\n",
    "\n",
    "counts = mSimulator.run(qc).result().get_counts(qc)\n",
    "print(counts)"
   ]
  },
  {
   "cell_type": "code",
   "execution_count": 39,
   "id": "f1eb9367-0792-4f38-9d0c-398d0bb733ee",
   "metadata": {},
   "outputs": [
    {
     "data": {
      "image/png": "[encoded data removed]",
      "text/plain": [
       "<Figure size 407.771x284.278 with 1 Axes>"
      ]
     },
     "execution_count": 39,
     "metadata": {},
     "output_type": "execute_result"
    }
   ],
   "source": [
    "qc.draw(\"mpl\")"
   ]
  },
  {
   "cell_type": "code",
   "execution_count": 40,
   "id": "3cba27f8-ecc6-4e46-bef6-024867151b5c",
   "metadata": {},
   "outputs": [
    {
     "name": "stdout",
     "output_type": "stream",
     "text": [
      "{'01': 546, '00': 478}\n"
     ]
    }
   ],
   "source": [
    "## Partial Measurement\n",
    "\n",
    "qr = qk.QuantumRegister(2)\n",
    "cr = qk.ClassicalRegister(2)\n",
    "qc = qk.QuantumCircuit(qr, cr)\n",
    "\n",
    "qc.h(qr[0])\n",
    "qc.h(qr[1])\n",
    "qc.measure(qr[0], cr[0])\n",
    "\n",
    "counts = mSimulator.run(qc).result().get_counts(qc)\n",
    "print(counts)"
   ]
  },
  {
   "cell_type": "markdown",
   "id": "411ecdde-7bfc-450b-9cf1-cd663eea7d3f",
   "metadata": {},
   "source": [
    "# Perfect Coin Algorithm"
   ]
  },
  {
   "cell_type": "code",
   "execution_count": 58,
   "id": "bf61f2de-ec54-42d7-a3b0-9d841d951e98",
   "metadata": {},
   "outputs": [],
   "source": [
    "def perfect_coinflip(numFlips):\n",
    "\n",
    "    qr = qk.QuantumRegister(1)\n",
    "    cr = qk.ClassicalRegister(1)\n",
    "\n",
    "    coin = qk.QuantumCircuit(qr, cr)\n",
    "    coin.h(qr[0])\n",
    "    coin.measure(qr, cr)\n",
    "\n",
    "    counts = mSimulator.run(coin, shots=numFlips).result().get_counts(coin)\n",
    "    heads = counts[\"0\"]\n",
    "    tails = counts[\"1\"]\n",
    "\n",
    "    return heads, tails"
   ]
  },
  {
   "cell_type": "code",
   "execution_count": 63,
   "id": "2da05b83-8f8b-4536-8b9e-e3a477f2a668",
   "metadata": {},
   "outputs": [
    {
     "name": "stdout",
     "output_type": "stream",
     "text": [
      "Heads: 60\n",
      "Tails: 40\n"
     ]
    }
   ],
   "source": [
    "numHeads, numTails = perfect_coinflip(100)\n",
    "\n",
    "print(f\"Heads: {numHeads}\")\n",
    "print(f\"Tails: {numTails}\")"
   ]
  }
 ],
 "metadata": {
  "kernelspec": {
   "display_name": "Qiskit (runtime)",
   "language": "python",
   "name": "helloworld"
  },
  "language_info": {
   "codemirror_mode": {
    "name": "ipython",
    "version": 3
   },
   "file_extension": ".py",
   "mimetype": "text/x-python",
   "name": "python",
   "nbconvert_exporter": "python",
   "pygments_lexer": "ipython3",
   "version": "3.10.11"
  }
 },
 "nbformat": 4,
 "nbformat_minor": 5
}
